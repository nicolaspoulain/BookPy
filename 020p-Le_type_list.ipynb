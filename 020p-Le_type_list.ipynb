{
 "cells": [
  {
   "cell_type": "markdown",
   "metadata": {},
   "source": [
    "## Créer et manipuler des listes\n",
    "\n",
    "On crée une liste en mettant des éléments séparés par des virgules entre crochets."
   ]
  },
  {
   "cell_type": "code",
   "execution_count": 1,
   "metadata": {},
   "outputs": [],
   "source": [
    "L = [1, 2, 3]"
   ]
  },
  {
   "cell_type": "markdown",
   "metadata": {},
   "source": [
    "Une liste vide est créée en ne mettant que les crochets:"
   ]
  },
  {
   "cell_type": "code",
   "execution_count": 2,
   "metadata": {},
   "outputs": [],
   "source": [
    "vide = [ ]"
   ]
  },
  {
   "cell_type": "markdown",
   "metadata": {},
   "source": [
    "On peut ajouter des éléments en fin de liste en utilisant la méthode append.\n",
    "\n",
    "Par exemple:"
   ]
  },
  {
   "cell_type": "code",
   "execution_count": 12,
   "metadata": {},
   "outputs": [
    {
     "name": "stdout",
     "output_type": "stream",
     "text": [
      "[1, 2, 3, 4]\n",
      "[1, 2, 3, 4, 5]\n"
     ]
    }
   ],
   "source": [
    "x = [1,2,3,4]\n",
    "print(x)\n",
    "x.append(5)\n",
    "print(x)"
   ]
  },
  {
   "cell_type": "markdown",
   "metadata": {},
   "source": [
    "On a accès à la taille d'une liste (nombre d'éléments) avec la fonction `len`. \n",
    "\n",
    "Le code suivant renvoie 5 car la liste `x` contient maintenant 5 éléments."
   ]
  },
  {
   "cell_type": "code",
   "execution_count": 8,
   "metadata": {},
   "outputs": [
    {
     "data": {
      "text/plain": [
       "5"
      ]
     },
     "execution_count": 8,
     "metadata": {},
     "output_type": "execute_result"
    }
   ],
   "source": [
    "len(x)"
   ]
  },
  {
   "cell_type": "markdown",
   "metadata": {},
   "source": [
    "On appelle un élément grâce à la syntaxe `x[indice]` ou `indice` est un entier. Attention, la numérotation des éléments commence à zéro. L'indice sera donc entre 0 et `len(x)-1` \n",
    "\n",
    "Exemple pour l'élément d'indice 2 de la liste  :"
   ]
  },
  {
   "cell_type": "code",
   "execution_count": 10,
   "metadata": {},
   "outputs": [
    {
     "name": "stdout",
     "output_type": "stream",
     "text": [
      "36\n"
     ]
    }
   ],
   "source": [
    "L = [12, 42, 36, 17]\n",
    "print( L[2] )"
   ]
  },
  {
   "cell_type": "markdown",
   "metadata": {},
   "source": [
    "On peut utiliser des indices négatifs, cela sert à faire référence aux éléments de la liste en partant de la fin. ainsi, x[-1] est le dernier élément de la liste x, x[-2] l'avant dernier etc...\n",
    "\n",
    "On peut changer la valeur d'un élément d'une liste avec une affectation:"
   ]
  },
  {
   "cell_type": "code",
   "execution_count": 13,
   "metadata": {},
   "outputs": [
    {
     "name": "stdout",
     "output_type": "stream",
     "text": [
      "[12, 42, 36, 17]\n",
      "[12, 42, 15, 17]\n"
     ]
    }
   ],
   "source": [
    "x = [12, 42, 36, 17]\n",
    "print( x )\n",
    "x[ 2 ] = 15\n",
    "print( x )"
   ]
  },
  {
   "cell_type": "markdown",
   "metadata": {},
   "source": [
    "On peut aussi réaliser la concaténation de deux listes avec l'opérateur +. Attention, il ne s'agit pas d'une addition terme à terme! \n",
    "\n",
    "Essayez les lignes suivantes:"
   ]
  },
  {
   "cell_type": "code",
   "execution_count": 15,
   "metadata": {},
   "outputs": [
    {
     "name": "stdout",
     "output_type": "stream",
     "text": [
      "[1, 2, 3, 4, 5, 6]\n"
     ]
    }
   ],
   "source": [
    "a = [1, 2, 3]\n",
    "b = [4, 5, 6]\n",
    "c = a + b\n",
    "print( c )"
   ]
  },
  {
   "cell_type": "markdown",
   "metadata": {},
   "source": [
    "Par extension, l'opérateur * permet de faire plusieurs fois la concaténation. `[ 0 ] * 4` représente `[ 0 ] + [ 0 ] + [ 0 ] + [ 0 ]` et donc la liste `[0, 0, 0, 0]`\n",
    "\n",
    "On peut extraire des sous-listes en utilisant des \"slices\". \n",
    "La syntaxe est `x[d : f : p]` où `d`, `f` et `p` sont des entiers représentants l'indice du premier élément, l'indice du premier élément qui n'y sera pas, et le pas. Par défaut `d` et `f` représentent le début et la fin de la liste et le pas est de 1."
   ]
  },
  {
   "cell_type": "code",
   "execution_count": 16,
   "metadata": {},
   "outputs": [
    {
     "name": "stdout",
     "output_type": "stream",
     "text": [
      "[3, 5, 7]\n",
      "[1, 3, 5, 7, 9]\n",
      "[3, 4, 5, 6, 7, 8, 9, 10]\n"
     ]
    }
   ],
   "source": [
    "a = [1, 2, 3, 4, 5, 6, 7, 8, 9, 10]\n",
    "b = a[ 2 : 7 : 2 ] #extraction d'une sous-liste de a comportant les éléments d'indice 2, 4 et 6\n",
    "print(b)\n",
    "b = a[ : : 2] #extraction d'une sous-liste de a comportant les éléments d'indice 0, 2, 4, 6 et 8\n",
    "print(b)\n",
    "b = a[ 2 : : ] #extraction d'une sous-liste de a comportant les éléments d'indice 2, 3, 4, 5, 6, 7, 8 et 9\n",
    "print(b)"
   ]
  }
 ],
 "metadata": {
  "kernelspec": {
   "display_name": "Python 3",
   "language": "python",
   "name": "python3"
  },
  "language_info": {
   "codemirror_mode": {
    "name": "ipython",
    "version": 3
   },
   "file_extension": ".py",
   "mimetype": "text/x-python",
   "name": "python",
   "nbconvert_exporter": "python",
   "pygments_lexer": "ipython3",
   "version": "3.6.8"
  }
 },
 "nbformat": 4,
 "nbformat_minor": 2
}
