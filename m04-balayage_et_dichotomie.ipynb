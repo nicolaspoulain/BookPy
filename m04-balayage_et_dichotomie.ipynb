{
 "cells": [
  {
   "cell_type": "markdown",
   "metadata": {},
   "source": [
    "# Activité 1. Méthode par balayage\n",
    "\n",
    "On considère une fonction $f$ définie sur l'intervalle $[a,b]$ et on suppose qu'il existe au moins un $x\\in[a,b]$ tel que $f(x)=0$. On cherche un encadrement d'une de ces solutions :\n",
    "\n",
    "- on commence par balayer l'intervalle $[a,b]$ en le subdivisant en N sous-intervalles : on calcule $f(a)$, $f(a+\\frac{b−a}N)$, $f(a+2\\frac{b−a}N)$, etc. jusqu'à un obtenir changement de signe pour $f(a+i\\frac{b−a}N)$ et $f(a+(i+1)\\frac{b−a}N)$. On a alors $x\\in[a+i\\frac{b−a}N,a+(i+1)\\frac{b−a}N]$\n",
    "- on peut maintenant remplacer les variables $a$ et $b$ par $a+i\\frac{b−a}N$ et $a+(i+1)\\frac{b−a}N$ et recommencer l'étape précédente.\n",
    "\n",
    "En répétant l'opération $K$ fois, on obtient un encadrement de la solution d'amplitude $\\frac{b−a}{N^K}$.\n",
    "\n",
    "*Remarque : cet algorithme fonctionne à condition évidemment de bien construire la boucle qui calcule tour à tour les images. Il faudra cependant être attentif à la détection du changement de signe entre deux abscisses successives : inutile de tester les quatre cas pour les signes des abscisses successives, une unique condition est suffisante. C'est un bon exercice à préparer en classe.*\n",
    "\n",
    "1. Écrire une fonction `balaye` ( `def balaye(a,b,f,N)` ) qui recherche par balayage une racine de la la fonction $f$ dans l'intervalle $[a,b]$ subdivisé en $N$ éléments et renvoie les bornes d'un intervalle $[a',b']$ d'amplitude $(b-a)/N$ (ou l'intervalle $[a,b]$ en cas d'échec).\n"
   ]
  },
  {
   "cell_type": "code",
   "execution_count": 2,
   "metadata": {},
   "outputs": [],
   "source": [
    "def f(x):\n",
    "    return x*x-2\n",
    "\n",
    "def balaye(a,b,f,N):\n",
    "    ...\n",
    "\n",
    "print(balaye(1,3,f,100))"
   ]
  },
  {
   "cell_type": "markdown",
   "metadata": {},
   "source": [
    "2. Écrire une fonction `racine_par_balayage` ( `def racine_par_balayage(a,b,f,N,K)` ) qui renvoie un encadrement d'une racine de $f$ sur $[a,b]$ d'amplitude $\\frac{b−a}{N^K}$."
   ]
  },
  {
   "cell_type": "code",
   "execution_count": 3,
   "metadata": {},
   "outputs": [],
   "source": [
    "def racine_par_balayage(a,b,f,N,K):\n",
    "    ...\n",
    "\n",
    "print(balaye(1,3,f,100,5))"
   ]
  },
  {
   "cell_type": "markdown",
   "metadata": {},
   "source": [
    "# Activité 2. Méthode par dichotomie\n",
    "\n",
    "On considère une fonction $f$ dont on cherche une racine dans l'intervalle $[a,b]$ et on suppose qu'il existe au moins un $x\\in[a,b]$ tel que $f(x)=0$. On va répéter des partages d’un intervalle en deux parties puis sélectionner chaque fois le sous-intervalle dans lequel se trouve une racine.\n",
    "\n",
    "Écrire une fonction `dichotomie` ( `def dichotomie(a,b,f,eps)` ) capable de renvoyer une approximation d'une racine de $f$ dans l'intervalle $[a,b]$ à `eps`-ilon près (ou la valeur exacte dans le cas où elle a été trouvée)."
   ]
  },
  {
   "cell_type": "code",
   "execution_count": 5,
   "metadata": {},
   "outputs": [
    {
     "name": "stdout",
     "output_type": "stream",
     "text": [
      "None\n"
     ]
    }
   ],
   "source": [
    "def dichotomie(a,b,f,eps):\n",
    "    ...\n",
    "\n",
    "\n",
    "print(dichotomie(1,2,f,10**(-9)))"
   ]
  },
  {
   "cell_type": "markdown",
   "metadata": {},
   "source": [
    "# Activité 3. Recherche de maximum par balayage\n",
    "\n",
    "On considère une fonction $f$ continue sur un intervalle fermé borné $[a,b]$. Par une méthode de balayage proche de celle vue dans l'activité 1, on peut (dans des conditions raisonnables) approcher à la précision souhaitée l'abscisse d'un point $x_{max}$ où $f$ atteint son maximum.\n",
    "\n",
    "Écrire une fonction `maxi_par_balayage` ( `def maxi_par_balayage(a,b,f,N,K)` ) capable de renvoyer un intervalle de taille $\\frac{b−a}{N^K}$ contenant $x_{max}$. On s'inspirera évidemment des fonctions écrites dans l'activité 1."
   ]
  },
  {
   "cell_type": "code",
   "execution_count": null,
   "metadata": {},
   "outputs": [],
   "source": [
    "def g(x):\n",
    "    return -x^2+2x+4\n",
    "def maxi_par_balayage(a,b,f,N,K):\n",
    "    ...\n",
    "    \n",
    "print(maxi_par_balayage(a,b,g,N,K):)"
   ]
  }
 ],
 "metadata": {
  "kernelspec": {
   "display_name": "Python 3",
   "language": "python",
   "name": "python3"
  },
  "language_info": {
   "codemirror_mode": {
    "name": "ipython",
    "version": 3
   },
   "file_extension": ".py",
   "mimetype": "text/x-python",
   "name": "python",
   "nbconvert_exporter": "python",
   "pygments_lexer": "ipython3",
   "version": "3.6.8"
  }
 },
 "nbformat": 4,
 "nbformat_minor": 2
}
