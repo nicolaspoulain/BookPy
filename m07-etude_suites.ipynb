{
 "cells": [
  {
   "cell_type": "markdown",
   "metadata": {},
   "source": [
    "## Une suite récurrente\n",
    "\n",
    "On considère la suite définie pour tout entier n\n",
    "par $u_{n+1}=f(u_n)$ avec $u_0\\in\\mathbb{R}$ donné et $f:x\\mapsto ax+b$ avec a,b\n",
    "réels donnés.\n",
    "\n",
    "Activité 1. Les termes de la suite\n",
    "On s'intéresse à la suite définie ci-dessus pour $f:x\\mapsto 0.8x+1$. On définit donc la fonction Python f(x) de la manière suivante\n"
   ]
  },
  {
   "cell_type": "code",
   "execution_count": 1,
   "metadata": {},
   "outputs": [],
   "source": [
    "def f(x):\n",
    "  return 0.8*x+1"
   ]
  },
  {
   "cell_type": "markdown",
   "metadata": {},
   "source": [
    "Écrire la fonction `terme` qui renvoie le n+1-ème terme de la suite."
   ]
  },
  {
   "cell_type": "code",
   "execution_count": 6,
   "metadata": {},
   "outputs": [],
   "source": [
    "def terme(u0,f,n):\n",
    "    return "
   ]
  },
  {
   "cell_type": "markdown",
   "metadata": {},
   "source": [
    "Écrire la fonction `suite` qui renvoie la liste des n+1 premiers termes de la suite. (voir ajouter un élément à une liste)"
   ]
  },
  {
   "cell_type": "code",
   "execution_count": 8,
   "metadata": {},
   "outputs": [],
   "source": [
    " def suite(u0,f,n):\n",
    "    return "
   ]
  },
  {
   "cell_type": "markdown",
   "metadata": {},
   "source": [
    "## Activité 2. Algorithme de seuil\n",
    "\n",
    "Il s'agit ici de calculer d'afficher la liste des termes d'une suite monotone, disons croissante, jusqu'àu terme dépassant un certain seuil.\n",
    "\n",
    "Écrire une fonction `seuil` qui renvoie la liste des termes inférieurs à la valeur seuil pour la suite $u_{n+1}=f(u_n)$\n",
    "(croissante) commençant à $u_0$.\n",
    "\n",
    "Remarque : Cet algorithme et le le précédent sont classiques pour montrer la différence entre les boucles for et while."
   ]
  },
  {
   "cell_type": "code",
   "execution_count": 9,
   "metadata": {},
   "outputs": [],
   "source": [
    "def seuil(u0,f,seuil):\n",
    "    return"
   ]
  },
  {
   "cell_type": "markdown",
   "metadata": {},
   "source": [
    "## Activité 3. Représentation graphique\n",
    "\n",
    "Soit M0 le point de $\\mathcal{C}_f$ d'abscisse $u_0$ et $M′_1$ le point de D d'abscisse $u_1$\n",
    ". \n",
    "On cherche à tracer la la ligne brisée constituée des deux segments $[M_0,M′_1]$ et $[M′_1,M_1]$.\n",
    "\n",
    "Rappelons (cf. «Graphisme avec Python») que l'instruction plot prend en argument une liste d'abscisses et une liste d'ordonnées de même taille puis relie l'ensemble des points. Exemple : L'instruction plot([1,2,3],[4,5,6]) trace les segments [AB] et [AC] où A, B et C ont pour coordonnées A(1;4), B(2;5) et C(4;6).\n",
    "\n",
    "Si la liste L contient les termes de la suite, on écrira donc\n",
    "\n",
    "```\n",
    "X = [ L[0], L[1] , L[1] ]\n",
    "Y = [ L[1], L[1] , L[2] ]\n",
    "plot(X,Y)\n",
    "```\n",
    "\n",
    "Écrire une fonction trace capable de tracer une représentation graphique constituée des termes de la suite un+1=f(un), u0=u0\n",
    "\n",
    "jusqu'au rang n\n",
    ".\n",
    "Les termes de la suite étant stockés dans une liste L, pour améliorer la lisibilité, on pourra définir xmin,xmax= min(L), max(L). Ceci permet de tracer, \n",
    "- Une représentation de $\\mathcal{D}$ avec l'instruction `plot([xmin,xmax], [xmin,xmax])` (en bleu ci-dessous)\n",
    "- Une représentation de $\\mathcal{C}_f$\n",
    "avec l'instruction `plot([xmin,xmax], [f(xmin),f(xmax)])` (en orange ci-dessous)"
   ]
  },
  {
   "cell_type": "code",
   "execution_count": null,
   "metadata": {},
   "outputs": [],
   "source": [
    "def trace(u0,f,n):"
   ]
  }
 ],
 "metadata": {
  "kernelspec": {
   "display_name": "Python 3",
   "language": "python",
   "name": "python3"
  },
  "language_info": {
   "codemirror_mode": {
    "name": "ipython",
    "version": 3
   },
   "file_extension": ".py",
   "mimetype": "text/x-python",
   "name": "python",
   "nbconvert_exporter": "python",
   "pygments_lexer": "ipython3",
   "version": "3.6.8"
  }
 },
 "nbformat": 4,
 "nbformat_minor": 2
}
