{
 "cells": [
  {
   "cell_type": "markdown",
   "metadata": {},
   "source": [
    "# Activité 1 : Des tests de primalité\n",
    "\n",
    "L'objectif ici est d'écrire plusieurs tests de primalité et de tester leur rapidité."
   ]
  },
  {
   "cell_type": "markdown",
   "metadata": {},
   "source": [
    "## Un test de primalité\n",
    "\n",
    "Un test de primalité est un algorithme permettant de savoir si un nombre entier est premier.\n",
    "Le test le plus simple est le suivant : pour tester $N$, on vérifie s'il est divisible par l'un des entiers compris au sens large entre $2$ et $N−1$. Si la réponse est négative, alors $N$ est premier, sinon il est composé. "
   ]
  },
  {
   "cell_type": "code",
   "execution_count": 3,
   "metadata": {},
   "outputs": [],
   "source": [
    "def prem1(n):\n",
    "  assert n>=2\n",
    "  for i in range (2,n,1): \n",
    "    if n%i==0:\n",
    "      return False\n",
    "  return True"
   ]
  },
  {
   "cell_type": "markdown",
   "metadata": {},
   "source": [
    "Remarques\n",
    "\n",
    "- La fonction renvoie une valeur booléenne, c'est-à-dire ou bien `True` ou bien `False`.\n",
    "- On remarque que dès qu'on trouve un diviseur $d$ on renvoie `False` : l'instruction `return` permet à la fois de renvoyer le résultat attendu et d'interrompre l'itération.\n",
    "- Quand on divise deux entiers $n$ et $i$, \n",
    " - `n%i` renvoie le reste de la division euclidienne de $n$ par $i$, \n",
    " - `n//i` renvoie le quotient alors que `n/i` renvoie le quotient décimal.\n",
    "\n",
    "\n",
    "> Tester l'algorithme avec des nombres premiers et des nombres composés ayant 4, 5 et 6 chiffres."
   ]
  },
  {
   "cell_type": "code",
   "execution_count": 4,
   "metadata": {},
   "outputs": [
    {
     "data": {
      "text/plain": [
       "False"
      ]
     },
     "execution_count": 4,
     "metadata": {},
     "output_type": "execute_result"
    }
   ],
   "source": [
    "prem1(330)"
   ]
  },
  {
   "cell_type": "markdown",
   "metadata": {},
   "source": [
    "Modifier l'algorithme afin que la fonction renvoie aussi une décomposition de l'entier n.\n",
    "\n",
    "Par exemple `prem(18)` doit renvoyer `(False,9,2)` et `prem(13)` doit renvoyer `(True,13,1)`.\n",
    "\n",
    "> Le tester avec un nombre composé, produit de deux nombres premiers à 5 chiffres comme par exemple :\n",
    ">\n",
    "> $n=28 537×28 603=816 243 811$."
   ]
  },
  {
   "cell_type": "code",
   "execution_count": 7,
   "metadata": {},
   "outputs": [
    {
     "ename": "SyntaxError",
     "evalue": "unexpected EOF while parsing (<ipython-input-7-faa97d01dae6>, line 6)",
     "output_type": "error",
     "traceback": [
      "\u001b[0;36m  File \u001b[0;32m\"<ipython-input-7-faa97d01dae6>\"\u001b[0;36m, line \u001b[0;32m6\u001b[0m\n\u001b[0;31m    #######**** À RÉDIGER ****#######\u001b[0m\n\u001b[0m                                     ^\u001b[0m\n\u001b[0;31mSyntaxError\u001b[0m\u001b[0;31m:\u001b[0m unexpected EOF while parsing\n"
     ]
    }
   ],
   "source": [
    "def prem(n):\n",
    "  assert n>=2\n",
    "  for i in range (2,n,1): \n",
    "    if n%i==0:\n",
    "      #######**** À RÉDIGER ****#######\n",
    "  #######**** À RÉDIGER ****#######"
   ]
  },
  {
   "cell_type": "markdown",
   "metadata": {},
   "source": [
    "## Une première amélioration\n",
    "\n",
    "Soit $n$ un entier supérieur ou égal à $2$.\n",
    "Si $n$ n'est pas premier et si $d$ est son plus petit diviseur supérieur ou égal à $2$, on peut écrire :\n",
    "\n",
    "$n=d×quotient$ avec $d≤quotient$\n",
    "\n",
    "\n",
    "Puisque l'on a choisi le plus petit diviseur $d$, on constate alors que $d×d≤n$.\n",
    "Pour tester si $n$ est premier, il suffit donc de tester sa divisibilité par les entiers dont le carré est inférieur ou égal à $n$\n",
    "\n",
    "> Concevoir une fonction `prem2`."
   ]
  },
  {
   "cell_type": "code",
   "execution_count": 6,
   "metadata": {},
   "outputs": [
    {
     "ename": "SyntaxError",
     "evalue": "unexpected EOF while parsing (<ipython-input-6-67b27c792a65>, line 2)",
     "output_type": "error",
     "traceback": [
      "\u001b[0;36m  File \u001b[0;32m\"<ipython-input-6-67b27c792a65>\"\u001b[0;36m, line \u001b[0;32m2\u001b[0m\n\u001b[0;31m    #######**** À RÉDIGER ****#######\u001b[0m\n\u001b[0m                                     ^\u001b[0m\n\u001b[0;31mSyntaxError\u001b[0m\u001b[0;31m:\u001b[0m unexpected EOF while parsing\n"
     ]
    }
   ],
   "source": [
    "def prem2(n):\n",
    "    #######**** À RÉDIGER ****#######"
   ]
  },
  {
   "cell_type": "markdown",
   "metadata": {},
   "source": [
    "> On peut tester nos deux fonctions `prem` et `prem2` avec un nombre premier ayant de nombreux chiffres. Vérifier l'efficacité de la fonction `prem2` avec l'entier premier à 15 chiffres, découvert en 1850 par le danois, Thomas Clausen : $6\\,728\\,0421\\,310\\,721$ (copier/coller : 67280421310721)."
   ]
  },
  {
   "cell_type": "code",
   "execution_count": 2,
   "metadata": {},
   "outputs": [
    {
     "ename": "NameError",
     "evalue": "name 'prem' is not defined",
     "output_type": "error",
     "traceback": [
      "\u001b[0;31m---------------------------------------------------------------------------\u001b[0m",
      "\u001b[0;31mNameError\u001b[0m                                 Traceback (most recent call last)",
      "\u001b[0;32m<ipython-input-2-3742d1178889>\u001b[0m in \u001b[0;36m<module>\u001b[0;34m\u001b[0m\n\u001b[0;32m----> 1\u001b[0;31m \u001b[0mprem\u001b[0m\u001b[0;34m(\u001b[0m\u001b[0;36m67280421310721\u001b[0m\u001b[0;34m)\u001b[0m\u001b[0;34m\u001b[0m\u001b[0;34m\u001b[0m\u001b[0m\n\u001b[0m",
      "\u001b[0;31mNameError\u001b[0m: name 'prem' is not defined"
     ]
    }
   ],
   "source": [
    "prem(67280421310721)"
   ]
  },
  {
   "cell_type": "markdown",
   "metadata": {},
   "source": [
    "## Avec une fonction d'Euler\n",
    "\n",
    "Le légendaire mathématicien suisse Léonhard EULER(1707-1783) proposait la formule suivante pour obtenir des nombres premiers : pour tout entier naturel $n,\\ f(n)=n^2−n+41$\n",
    "\n",
    "La fonction `f` renvoie des nombres premiers pour de nombreuses valeurs entières, mais pas pour toutes. \n",
    "\n",
    "> Compléter cet algorithme afin qu'il affiche la première valeur entière dont l'image par la fonction `f` est un nombre composé, ainsi que son image. On introduira une fonction sans argument, `premierCompose` qu'il suffira d'appeler dans la console."
   ]
  },
  {
   "cell_type": "code",
   "execution_count": null,
   "metadata": {},
   "outputs": [],
   "source": [
    "def premierCompose():\n",
    "    #######**** À RÉDIGER ****#######"
   ]
  },
  {
   "cell_type": "markdown",
   "metadata": {},
   "source": [
    "La fonction $g : x⟼x^2−79x+1601$ est aussi assez remarquable.\n",
    "\n",
    "> Reprendre les questions précédentes avec cette fonction et déterminer le plus petit entier naturel $n$ dont l'image n'est pas un nombre premier... s'il existe ! On pourra cette fois utiliser une fonction `premierCompose` de paramètre $g$."
   ]
  },
  {
   "cell_type": "code",
   "execution_count": null,
   "metadata": {},
   "outputs": [],
   "source": [
    "def premierCompose(g):\n",
    "    #######**** À RÉDIGER ****#######"
   ]
  },
  {
   "cell_type": "markdown",
   "metadata": {},
   "source": [
    "> Écrire une fonction `tableauprem` qui donne le tableau de valeurs d'une fonction $f$, pour $x$ entier variant de $0$ à $n$, avec un test de primalité pour chacune des images et un affichage adapté. La fonction sera de paramètres n et f.\n",
    "\n",
    "Par exemple `tableauprem(5,f)` doit renvoyer :\n",
    "\n",
    "`[(41 , True), (41 , True) , (43 , True), (47 , True) , (53 , True), (61 , True)]`\n"
   ]
  },
  {
   "cell_type": "code",
   "execution_count": null,
   "metadata": {},
   "outputs": [],
   "source": [
    "def tableauprem(n,f):\n",
    "    return [(....,....)) for x in range(0,n+1)]     #######**** À RÉDIGER ****#######"
   ]
  },
  {
   "cell_type": "markdown",
   "metadata": {},
   "source": [
    "## Une autre amélioration\n",
    "\n",
    "> Sur le modèle de la fonction `prem2`, écrire une fonction `prem3` qui évalue la primalité de $n$, en effectuant un cas particulier avec $d=2$ puis en ne testant que les diviseurs impairs, avec $d=3$ puis avec $d←d+2$.\n",
    "\n"
   ]
  },
  {
   "cell_type": "code",
   "execution_count": null,
   "metadata": {},
   "outputs": [],
   "source": []
  },
  {
   "cell_type": "markdown",
   "metadata": {},
   "source": [
    "## Mesure du temps\n",
    "\n",
    "On peut mesurer le temps d'exécution des programme à l'aide du module time.\n",
    "Après avoir importé le module, il suffit de créer une variable `t = time.time()`,\n",
    "puis avant la sortie, d'imprimer le temps écoulé avec l'instruction : `print(time.time()-t)`.\n",
    "\n",
    "Tester les différentes fonctions `prem1`, `prem2` et `prem3` avec les entiers premiers, (on pourra cliquer sur Stop quand le temps d'exécution semble trop long) :\n",
    "\n",
    "- 1732 Leonhard Euler :  $6\\,700\\,417$\n",
    "- 1750 Leonhard Euler :  $2\\,147\\,483\\,647$\n",
    "- 1855 Thomas Clausen :  $67\\,280\\,421\\,310\\,721$\n",
    "- 1876  Édouard Lucas :  $170\\,141\\,183\\,460\\,469\\,231\\,731\\,687\\,303\\,715\\,884\\,105\\,727$"
   ]
  },
  {
   "cell_type": "code",
   "execution_count": null,
   "metadata": {},
   "outputs": [],
   "source": [
    "#######**** À RÉDIGER ****#######"
   ]
  },
  {
   "cell_type": "markdown",
   "metadata": {},
   "source": [
    "# Activité 2 : Les nombres premiers jumeaux\n",
    "\n",
    "Cette activité est un prolongement de celle liée aux nombres premiers.\n",
    "\n",
    "**Exercice 1.** Une liste de nombres premiers\n",
    "Dans la première activité, on a vu plusieurs tests de primalité dont celui-ci \n",
    "\n",
    "```\n",
    "def prem(n):\n",
    "  '''Renvoie True si n est premier et False sinon'''\n",
    "  assert(n>=2)\n",
    "  d=2\n",
    "  while d*d <=n:\n",
    "    if n%d==0:\n",
    "      return False\n",
    "    d=d+1\n",
    "  return True\n",
    "```\n",
    "\n",
    "On cherche à écrire une fonction `listeprem`, de paramètre $n$, qui renvoie le liste des nombres premiers qui sont inférieurs ou égaux à $n$.\n",
    "\n",
    "On va utiliser une liste que l’on note $L$. L'instruction `L = [ ]` va créer une liste vide.\n",
    "On va avoir ensuite ajouter un élément à cette liste. Deux méthodes sont possibles : \n",
    "\n",
    "- l'instruction `L . append(i)` va ajouter un élément `i` à la fin de la liste `L` ;\n",
    "- l'instruction `L = L + [ i ]` va ajouter un élément `i` à la fin de la liste `L`.\n",
    "\n",
    "\n",
    "> Compléter cet algorithme afin qu’il renvoie la liste des nombres premiers qui sont inférieurs ou égaux à $n$."
   ]
  },
  {
   "cell_type": "code",
   "execution_count": null,
   "metadata": {},
   "outputs": [],
   "source": [
    "def listeprem(n):\n",
    "    '''Renvoie la liste des nombres premiers inférieurs ou égaux à n'''\n",
    "    assert(n>=2)\n",
    "    L=[] #L est une liste vide\n",
    "    for i in range(2,n+1):\n",
    "        if ... :    #######**** À RÉDIGER ****#######\n",
    "            ...     #######**** À RÉDIGER ****#######\n",
    "    return L\n"
   ]
  },
  {
   "cell_type": "markdown",
   "metadata": {},
   "source": [
    "**Exercice 2.** Nombres premiers jumeaux\n",
    "\n",
    "Le couple $(2, 3)$ est le seul couple de nombres premiers consécutifs.\n",
    "Si l’on omet le couple $(2, 3)$, la plus petite distance possible entre deux nombres premiers est 2 ; deux nombres premiers jumeaux sont ainsi deux nombres premiers impairs consécutifs.\n",
    "\n",
    "Écrire une fonction `jumeaux`, de paramètre $n$, qui renvoie la liste des couples d’entiers premiers jumeaux inférieurs ou égaux à $n$. Par exemple, `jumeaux(100)` doit renvoyer dans la console :\n",
    "\n",
    "`=> [(3, 5), (5, 7), (11, 13), (17, 19), (29, 31), (41, 43), (59, 61), (71, 73)]`"
   ]
  },
  {
   "cell_type": "code",
   "execution_count": null,
   "metadata": {},
   "outputs": [],
   "source": [
    "def jumeaux(n):\n",
    "    #######**** À RÉDIGER ****#######"
   ]
  },
  {
   "cell_type": "markdown",
   "metadata": {},
   "source": [
    "**Exercice 3.** Nombre de Nombres premiers jumeaux inférieur à $n$\n",
    "\n",
    "La longueur d’une liste $L$ s’obtient par l’instruction `len(L)`.\n",
    "Par exemple, la longueur de la liste renvoyée par `jumeaux(100)` est $8$, car il y a $8$ couples d’entiers dans cette liste. On a `len(jumeaux(100)) = 8`.\n",
    "\n",
    "Écrire une fonction `nbjumeaux`, de paramètre $n$, qui renvoie le nombre de couples d’entiers premiers jumeaux\n",
    "inférieurs ou égaux à $n$.\n",
    "\n",
    "Par exemple, vous devrez obtenir les résultats suivants :\n",
    "\n",
    "```\n",
    "> nbjumeaux(10**5)\n",
    "=> 1224\n",
    "\n",
    "> nbjumeaux(10**6)\n",
    "=> 8169\n",
    "```"
   ]
  },
  {
   "cell_type": "code",
   "execution_count": null,
   "metadata": {},
   "outputs": [],
   "source": [
    "def nbjumeaux(n):\n",
    "    #######**** À RÉDIGER ****#######"
   ]
  }
 ],
 "metadata": {
  "kernelspec": {
   "display_name": "Python 3",
   "language": "python",
   "name": "python3"
  },
  "language_info": {
   "codemirror_mode": {
    "name": "ipython",
    "version": 3
   },
   "file_extension": ".py",
   "mimetype": "text/x-python",
   "name": "python",
   "nbconvert_exporter": "python",
   "pygments_lexer": "ipython3",
   "version": "3.6.8"
  }
 },
 "nbformat": 4,
 "nbformat_minor": 2
}
