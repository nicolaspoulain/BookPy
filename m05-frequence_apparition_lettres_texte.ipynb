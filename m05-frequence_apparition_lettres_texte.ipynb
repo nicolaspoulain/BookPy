{
 "cells": [
  {
   "cell_type": "markdown",
   "metadata": {},
   "source": [
    "# Activité 1 : Fréquence d'apparition des lettres dans un texte\n",
    "\n",
    "Cette activité est liée aux expérimentations proposées dans le nouveau programme de première.\n",
    "\"L’objectif est de calculer la fréquence d'apparition des lettres dans un texte donné en français ou en anglais\"\n",
    "\n",
    "## Une fonction qui donne la fréquence d'une lettre dans un texte\n",
    "\n",
    "On va créer une fonction `frequence_lettre` qui va renvoyer la fréquence de la lettre dans le texte donné sous la forme du couple (lettre, fréquence) ou d'une liste [lettre, fréquence].\n",
    "Rappel : `len(X)` renvoie la longueur de la liste ou chaîne `X`\n",
    "\n",
    "### Méthode 1\n",
    "\n",
    "L'idée dans un premier temps est de faire une boucle sur les caractères du texte donné et de compter le nombre de fois où la lettre apparait à l'aide d'un compteur."
   ]
  },
  {
   "cell_type": "code",
   "execution_count": null,
   "metadata": {},
   "outputs": [],
   "source": [
    "ex='zaaabbcabj'\n",
    "\n",
    "def frequence_lettre1(lettre,texte):\n",
    "    compteur=0\n",
    "    for i in texte:\n",
    "        ...\n",
    "    return ..."
   ]
  },
  {
   "cell_type": "markdown",
   "metadata": {},
   "source": [
    "Vérifier qu'en écrivant `frequence_lettre1('a',ex)` dans la console on obtient bien avec notre exemple `( 'a' , 0.4 )`.\n",
    "\n"
   ]
  },
  {
   "cell_type": "markdown",
   "metadata": {},
   "source": [
    "### Méthode 2\n",
    "\n",
    "La fonction count permet de compter le nombre d'élément dans une liste ou une chaîne de caractères.\n",
    "Par exemple `X.count('y')` va renvoyer le nombre de caractère `y` dans `X`. Noter que les chaîne de caractères doivent être notée entre apostrophe.\n",
    "\n",
    "On va l'utiliser pour créer une fonction `frequence_lettre2(lettre,texte)` qui va renvoyer la fréquence de la lettre dans le texte sous la forme du couple `(lettre, fréquence)` ou d'une liste `[lettre, fréquence]`. "
   ]
  },
  {
   "cell_type": "code",
   "execution_count": null,
   "metadata": {},
   "outputs": [],
   "source": [
    "def frequence_lettre2(lettre,texte):            \n",
    "    return ..."
   ]
  },
  {
   "cell_type": "markdown",
   "metadata": {},
   "source": [
    "Vérifier qu'en écrivant `frequence_lettre2('a',ex)` dans la console on obtient bien  `( 'a' , 0.4 )`.\n",
    "\n",
    "Remarque : Si vous écrivez dans la console `frequence_lettre2('a',ex)[0]`  vous allez obtenir le premier argument renvoyé soit `'a'`\n",
    "et si vous écrivez `frequence_lettre2('a',ex)[1]` vous allez obtenir le deuxième argument renvoyé soit `0.4` ici."
   ]
  },
  {
   "cell_type": "markdown",
   "metadata": {},
   "source": [
    "## Une fonction qui donne la fréquence de toutes les lettres de l'alphabet présentent dans un texte donné\n",
    "\n",
    "On va maintenant écrire une fonction `frequence` qui donne la fréquence d'apparition des lettres de l'alphabet dans un texte donné. On va créer une variable `alphabet` qui contient les lettres à tester et boucler sur ces lettres avec un test sur chaque caractère du `texte`. La liste renvoyée sera une liste de couples (ou de listes) composés de la lettre et de sa fréquence.\n",
    "\n",
    "Par exemple on devra ici obtenir en écrivant `frequence(ex)` dans la console :\n",
    "\n",
    "[('a', 0.4), ('b', 0.3), ('c', 0.1), ('d', 0.0), ('e', 0.0), ('f', 0.0), ('g', 0.0), ('h', 0.0), ('i', 0.0), ('j', 0.1), ('k', 0.0), ('l', 0.0), ('m', 0.0), ('n', 0.0), ('o', 0.0), ('p', 0.0), ('q', 0.0), ('r', 0.0), ('s', 0.0), ('t', 0.0), ('u', 0.0), ('v', 0.0), ('w', 0.0), ('x', 0.0), ('y', 0.0), ('z', 0.1)]"
   ]
  },
  {
   "cell_type": "code",
   "execution_count": null,
   "metadata": {},
   "outputs": [],
   "source": [
    "alphabet='abcdefghijklmnopqrstuvwxyz'\n",
    "\n",
    "def frequence(texte):\n",
    "    ..."
   ]
  },
  {
   "cell_type": "markdown",
   "metadata": {},
   "source": [
    "Remarque : Si vous écrivez dans la console `frequence(ex)[0]` vous allez obtenir le premier couple renvoyé soit :\n",
    "`('a', 0.4)`."
   ]
  },
  {
   "cell_type": "markdown",
   "metadata": {},
   "source": [
    "## Représentation graphique\n",
    "\n",
    "Il est possible d'obtenir une représentation graphique des résultats mais la syntaxe est assez lourde, nous vous donnons directement une solution, possible."
   ]
  },
  {
   "cell_type": "code",
   "execution_count": null,
   "metadata": {},
   "outputs": [],
   "source": [
    "import matplotlib.pyplot as plt \n",
    "import numpy as np\n",
    "import pylab\n",
    "x = [x for x in range(26)]\n",
    "height = [x[1] for x in frequence(ex)] # On extrait chaque frequence des couples \n",
    "width = 0.5\n",
    "BarName = [x for x in alphabet]\n",
    "plt.bar(x, height, width, color='b' )\n",
    "pylab.xticks(x, BarName, rotation=0)\n",
    "plt.xlabel('Lettres')\n",
    "plt.ylabel('Frequences')\n",
    "plt.savefig('graph')"
   ]
  }
 ],
 "metadata": {
  "kernelspec": {
   "display_name": "Python 3",
   "language": "python",
   "name": "python3"
  },
  "language_info": {
   "codemirror_mode": {
    "name": "ipython",
    "version": 3
   },
   "file_extension": ".py",
   "mimetype": "text/x-python",
   "name": "python",
   "nbconvert_exporter": "python",
   "pygments_lexer": "ipython3",
   "version": "3.6.8"
  }
 },
 "nbformat": 4,
 "nbformat_minor": 2
}
