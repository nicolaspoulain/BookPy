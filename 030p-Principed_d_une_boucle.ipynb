{
 "cells": [
  {
   "cell_type": "markdown",
   "metadata": {},
   "source": [
    "# Les boucles\n",
    "\n",
    "Si on veut exécuter plusieurs fois une commande, on utilise des boucles. essayez le programme suivant:"
   ]
  },
  {
   "cell_type": "code",
   "execution_count": 2,
   "metadata": {},
   "outputs": [
    {
     "name": "stdout",
     "output_type": "stream",
     "text": [
      "Bonjour Monsieur!\n",
      "Bonjour. Va vite t’installer tu es en retard.\n",
      "Bonjour Monsieur!\n",
      "Bonjour. Va vite t’installer tu es en retard.\n",
      "Bonjour Monsieur!\n",
      "Bonjour. Va vite t’installer tu es en retard.\n",
      "Bonjour Monsieur!\n",
      "Bonjour. Va vite t’installer tu es en retard.\n",
      "Bonjour Monsieur!\n",
      "Bonjour. Va vite t’installer tu es en retard.\n"
     ]
    }
   ],
   "source": [
    "for i in range(5):\n",
    "    print(\"Bonjour Monsieur!\")\n",
    "    print(\"Bonjour. Va vite t’installer tu es en retard.\")"
   ]
  },
  {
   "cell_type": "markdown",
   "metadata": {},
   "source": [
    "L'indentation (le décalage vers la droite d'une partie des lignes) fait partie de la syntaxe en python. Elle permet de savoir ce qui est dans la boucle. On peut l'ajouter en utilisant la touche tabulation. \n",
    "\n",
    "Observez ces deux programmes et comparez les résultats:"
   ]
  },
  {
   "cell_type": "code",
   "execution_count": 6,
   "metadata": {},
   "outputs": [
    {
     "name": "stdout",
     "output_type": "stream",
     "text": [
      "Hello\n",
      "The End\n",
      "Hello\n",
      "The End\n",
      "Hello\n",
      "The End\n",
      "Hello\n",
      "The End\n",
      "Hello\n",
      "The End\n",
      "--------------\n",
      "Bonjour\n",
      "Bonjour\n",
      "Bonjour\n",
      "Bonjour\n",
      "Bonjour\n",
      "Fin\n"
     ]
    }
   ],
   "source": [
    "for i in range(5):\n",
    "    print(\"Hello\")\n",
    "    print(\"The End\")\n",
    "    \n",
    "print(\"--------------\")\n",
    "\n",
    "for i in range(5):\n",
    "    print(\"Bonjour\")\n",
    "print(\"Fin\")"
   ]
  },
  {
   "cell_type": "markdown",
   "metadata": {},
   "source": [
    "Le i est ici une variable dont la valeur va changer à chaque tour de boucle. Avec cette syntaxe, i démarre à 0 et va jusqu'à neuf soit dix exécutions de la boucle. On peut le voir en tapant ceci:"
   ]
  },
  {
   "cell_type": "code",
   "execution_count": 7,
   "metadata": {},
   "outputs": [
    {
     "name": "stdout",
     "output_type": "stream",
     "text": [
      "début\n",
      "0\n",
      "1\n",
      "2\n",
      "3\n",
      "4\n",
      "5\n",
      "6\n",
      "7\n",
      "8\n",
      "9\n",
      "fin\n"
     ]
    }
   ],
   "source": [
    "print(\"début\")\n",
    "for i in range(10):\n",
    "    print(i)\n",
    "print(\"fin\")"
   ]
  },
  {
   "cell_type": "markdown",
   "metadata": {},
   "source": [
    "# Activité à réaliser\n",
    "\n",
    "Prévoir ce que fait le programme suivant avant de l'exécuter en cliquant sur la flèche de gauche."
   ]
  },
  {
   "cell_type": "code",
   "execution_count": null,
   "metadata": {},
   "outputs": [],
   "source": [
    "for i in range(4):\n",
    "    for j in range(3):\n",
    "        print(\"i =\", i, \"et j =\", j )"
   ]
  },
  {
   "cell_type": "markdown",
   "metadata": {},
   "source": [
    "La fonction range va pouvoir prendre trois arguments entiers. Le premier est le point de départ, le deuxième est le premier élément qui ne sera pas dans la séquence et le troisième est le pas. Si deux arguments sont donnés, le pas est 1 par défaut. Si un seul argument est donné, le pas est 1 par défaut et le premier élément est 0 par défaut.\n",
    "\n",
    "Ainsi, `for i in range(0, 10, 1)` est identique à `for i in range(0, 10)` et à `for i in range(10)`.\n",
    "\n",
    "Essayez de prévoir ce qu'afficheront les lignes suivantes après avoir cliqué sur le bouton d'exécution.\n"
   ]
  },
  {
   "cell_type": "code",
   "execution_count": null,
   "metadata": {},
   "outputs": [],
   "source": [
    "for i in range(2,10,3):\n",
    "    print(i)"
   ]
  },
  {
   "cell_type": "markdown",
   "metadata": {},
   "source": [
    "Si on travaille sur des listes, on peut réaliser des itérations sur les indices"
   ]
  },
  {
   "cell_type": "code",
   "execution_count": 12,
   "metadata": {},
   "outputs": [
    {
     "name": "stdout",
     "output_type": "stream",
     "text": [
      "[4.0, 4.01, 4.04, 4.09, 4.16, 4.25]\n"
     ]
    }
   ],
   "source": [
    "x = [0., 0.1, 0.2, 0.3, 0.4, 0.5]\n",
    "y = [ ]\n",
    "\n",
    "for i in range( len( x ) ): #i est un int, c'est un indice\n",
    "    y.append( x[ i ] ** 2 + 4. )\n",
    "    \n",
    "print(y)"
   ]
  },
  {
   "cell_type": "markdown",
   "metadata": {},
   "source": [
    "ou sur les éléments de la liste."
   ]
  },
  {
   "cell_type": "code",
   "execution_count": 13,
   "metadata": {},
   "outputs": [
    {
     "name": "stdout",
     "output_type": "stream",
     "text": [
      "[4.0, 4.01, 4.04, 4.09, 4.16, 4.25]\n"
     ]
    }
   ],
   "source": [
    "x = [0., 0.1, 0.2, 0.3, 0.4, 0.5]\n",
    "y = [ ]\n",
    "\n",
    "for i in x:  #i est un float, c'est un élément de x\n",
    "    y.append( i ** 2 + 4. )\n",
    "\n",
    "print(y)"
   ]
  },
  {
   "cell_type": "markdown",
   "metadata": {},
   "source": [
    "Il y a même la possibilité de construire des listes sans faire apparaître la structure de boucle tout en gardant le code lisible:"
   ]
  },
  {
   "cell_type": "code",
   "execution_count": 15,
   "metadata": {},
   "outputs": [
    {
     "name": "stdout",
     "output_type": "stream",
     "text": [
      "[4.0, 4.01, 4.04, 4.09, 4.16, 4.25]\n"
     ]
    }
   ],
   "source": [
    "x = [0., 0.1, 0.2, 0.3, 0.4, 0.5]\n",
    "y = [ i ** 2 + 4. for i in x]\n",
    "\n",
    "print(y)"
   ]
  },
  {
   "cell_type": "markdown",
   "metadata": {},
   "source": [
    "La boucle utilisant un \"for\" est pratique lorsque l'on sait à l'avance le nombre d'itérations ou les éléments que l'on veut balayer. Si ce n'est pas le cas, on utilise une boucle conditionnelle qui s'écrit avec un \"while\"."
   ]
  },
  {
   "cell_type": "code",
   "execution_count": 16,
   "metadata": {},
   "outputs": [
    {
     "name": "stdout",
     "output_type": "stream",
     "text": [
      "[4.0, 4.01, 4.04, 4.09, 4.16, 4.25]\n"
     ]
    }
   ],
   "source": [
    "x = [0., 0.1, 0.2, 0.3, 0.4, 0.5]\n",
    "y = [ ]\n",
    "i = 0\n",
    "while i < len(x):\n",
    "    y.append( x[ i ] ** 2 + 4. )\n",
    "    i = i + 1\n",
    "\n",
    "print(y)"
   ]
  }
 ],
 "metadata": {
  "kernelspec": {
   "display_name": "Python 3",
   "language": "python",
   "name": "python3"
  },
  "language_info": {
   "codemirror_mode": {
    "name": "ipython",
    "version": 3
   },
   "file_extension": ".py",
   "mimetype": "text/x-python",
   "name": "python",
   "nbconvert_exporter": "python",
   "pygments_lexer": "ipython3",
   "version": "3.6.8"
  }
 },
 "nbformat": 4,
 "nbformat_minor": 2
}
