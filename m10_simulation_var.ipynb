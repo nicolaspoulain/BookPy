{
 "cells": [
  {
   "cell_type": "markdown",
   "metadata": {},
   "source": [
    "# 1.  Loi d'une variable aléatoire, espérance et écart-type.\n",
    "Nous allons définir une variable aléatoire X\n",
    "dont on connait la loi de probabilité.\n",
    "Par exemple X\n",
    "est une variable aléatoire qui donne le gain algébrique d'un jeu quelconque.\n",
    "\n",
    "\n",
    "\n",
    "On notera ces valeurs dans deux listes X et p au début du programme.\n",
    "\n",
    "En reprenant les fonctions du module (Moyenne, médiane variance), on peut facilement obtenir deux fonctions qui renvoient l'espérance et l'écart-type de cette variable aléatoire. Vérifier que l'on obtient μ=0,2\n",
    "et σ≈5,72."
   ]
  },
  {
   "cell_type": "code",
   "execution_count": 1,
   "metadata": {},
   "outputs": [],
   "source": [
    "# Définition des valeurs prises par la v.a. et les probabilités associées\n",
    "X=[-10,-1,5]\n",
    "p=[0.2,0.3,0.5]\n",
    "\n",
    "\n",
    "# Calcul de l'espérance et de l'écart-type (voir le module correspondant) \n",
    "# on l'adapte avec des probabilités en place des effectifs\n",
    "def esperance(valeurs,probabilites):\n",
    "  e=0\n",
    "  a= len(valeurs) # la longueur de la liste\n",
    "  for i in range(a):\n",
    "      e = e + probabilites[i]*valeurs[i] # somme des pi*xi\n",
    "  return e\n",
    "\n",
    "# variance(X,p)\n",
    "def variance(valeurs,probabilites):\n",
    "  var,N = 0,0\n",
    "  e=esperance(valeurs,probabilites)\n",
    "  n=len(valeurs)\n",
    "  for i in range(n):   \n",
    "    var = var+probabilites[i]*(valeurs[i]-e)**2\n",
    "  return var\n",
    "\n",
    "#  ecart-type  : ecarttype(X,p)  \n",
    "import math\n",
    "def ecarttype(valeurs,probabilites):\n",
    "  return math.sqrt(variance(valeurs,probabilites))"
   ]
  },
  {
   "cell_type": "markdown",
   "metadata": {},
   "source": [
    "# 2. Simulation d'une variable aléatoire\n",
    "\n",
    "Objectif (programme de première) : Simuler une variable aléatoire avec Python.\n",
    "\n",
    "On a besoin du module random et de l'instruction random.random() qui renvoie un réel pseudo-aléatoire entre 0 et 1 (exclu). L'idée ici est de construire une fonction nommée simul ( def simul(valeurs,probabilites) ) qui va renvoyer une valeur prise par la variable aléatoire X\n",
    "selon la loi associée.\n",
    "\n",
    "Dans le cas présent, on va générer un réel nb entre 0 et 1 (exclu) avec la fonction random.random() puis, si il appartient à l'intervalle [0 ; 0.2] renvoyer −10\n",
    ", si il est dans [0.2 ; 0.2+0.3] renvoyer −1 et sinon renvoyer 5\n",
    ".\n",
    "\n",
    "\n",
    "\n",
    "Bien entendu on va construire une fonction qui ne dépend pas des listes initiales."
   ]
  },
  {
   "cell_type": "code",
   "execution_count": 2,
   "metadata": {},
   "outputs": [],
   "source": [
    "import random\n",
    "def simul(valeurs,probabilites):\n",
    "    nb=random.random()\n",
    "    pcumul=0\n",
    "    for i in range(len(valeurs)):        \n",
    "        if ... <= nb < ... :\n",
    "            return valeurs[i] \n",
    "        pcumul=pcumul+..."
   ]
  },
  {
   "cell_type": "markdown",
   "metadata": {},
   "source": [
    "Pour la tester il suffit de lancer dans la console : simul ( X , p ).\n",
    "\n",
    "# 3. Simulation d'un échantillon de taille n\n",
    "Nous allons maintenant simuler un échantillon de taille n. Pour cela il faudra effectuer une boucle sur n en utilisant la fonction simul précédente  et renvoyer une liste de valeurs de la variable. X\n",
    ".\n",
    "Aide :\n",
    "\n",
    "    L= [ ] : création d'une liste vide\n",
    "    L . append(i) : ajoute un élément i en fin de la liste L.\n",
    "    On peut aussi écrire : L = L + [ i ]"
   ]
  },
  {
   "cell_type": "code",
   "execution_count": 3,
   "metadata": {},
   "outputs": [],
   "source": [
    "def echantillon(valeurs,probabilites,taille):\n",
    "    listeX=[]\n",
    "    for i in range(taille):\n",
    "       ...\n",
    "    return listeX"
   ]
  },
  {
   "cell_type": "markdown",
   "metadata": {},
   "source": [
    "# 4. Comparaison fréquences et probabilités\n",
    "Nous voudrions afficher la liste des fréquences associées aux valeurs de X dans l'échantillon. L'idée étant de visualiser que si n est grand, les fréquences devraient se rapprocher des probabilités.\n",
    "\n",
    "### Méthode 1\n",
    "\n",
    "La méthode la plus naturelle si l'on ne connait pas quelques fonctions spécifiques à Python, est de faire une boucle sur les éléments de la liste valeurs, de les comparer à celles de la liste échanti puis de créer un compteur F[ i ] pour chaque valeurs et enfin de diviser par n. C'est un peu long !"
   ]
  },
  {
   "cell_type": "code",
   "execution_count": 4,
   "metadata": {},
   "outputs": [],
   "source": [
    "\n",
    "def frequences(valeurs,probabilites,taille):\n",
    "    echanti=echantillon(valeurs,probabilites,taille)\n",
    "    n=len(echanti)\n",
    "    i=0\n",
    "    F=[0]*len(valeurs) # va créer une liste de longueur len(valeurs) composée de 0 \n",
    "    for val in valeurs:\n",
    "        for x in echanti:\n",
    "            if val==x:\n",
    "                F[i]=...\n",
    "        F[i]=...\n",
    "        i=i+1\n",
    "    return F,probabilites "
   ]
  },
  {
   "cell_type": "markdown",
   "metadata": {},
   "source": [
    "### Méthode 2\n",
    "\n",
    "On peut aussi utiliser la fonction index vous permet de connaitre la position d'une valeur cherchée dans la liste.\n",
    "X.index(y) va donner l'indice (le rang) de la valeur y dans la liste X. Attention, on sait que le premier élément de la liste X est d'indice 0, c'est X[0].\n",
    "\n",
    "Par exemple ici : Avec la liste X = [ -10 , -1 , 5 ]\n",
    "X.index(-10) doit renvoyer 0,  X.index(-1) doit renvoyer 1 et  X.index(5) doit renvoyer 2. Testez-le."
   ]
  },
  {
   "cell_type": "code",
   "execution_count": 5,
   "metadata": {},
   "outputs": [],
   "source": [
    "def frequences2(valeurs,probabilites,taille):\n",
    "    echanti=echantillon(valeurs,probabilites,taille)\n",
    "    n=len(echanti)\n",
    "    F=[0]*len(valeurs) # va créer une liste de longueur len(valeurs) composée de 0 \n",
    "    for x in echanti:\n",
    "        F[valeurs.index(x)]=...\n",
    "    for i in range(len(valeurs)): # on divise les occurences par n pour avoir les fréquences après afin d'éviter le cumul d'erreurs dans la boucle\n",
    "      F[i]=F[i]/n   \n",
    "    return F,probabilites "
   ]
  },
  {
   "cell_type": "markdown",
   "metadata": {},
   "source": [
    "### Méthode 3\n",
    "\n",
    "Il y a encore plus rapide. On va pour cela utiliser la fonction count et la fonction append.\n",
    "La fonction count s'utilise sous la forme X.count(y) qui compte le nombre de valeurs y dans la liste X.\n",
    "La fonction append s'utilise sous la forme X.append(y) et ajoute l'élément y à la liste X.\n",
    "\n",
    "Complétez la fonction ci-dessous, une seule ligne est manquante ! Notez la simplicité de la solution."
   ]
  },
  {
   "cell_type": "code",
   "execution_count": 6,
   "metadata": {},
   "outputs": [],
   "source": [
    "def frequences3(valeurs,probabilites,taille):\n",
    "    echanti=echantillon(valeurs,probabilites,taille)\n",
    "    n=len(echanti)\n",
    "    F=[]\n",
    "    for x in valeurs:\n",
    "        ...\n",
    "    return F,probabilites "
   ]
  },
  {
   "cell_type": "markdown",
   "metadata": {},
   "source": [
    "# 5. Moyenne\n",
    "Objectif (programme de première) : Lire, comprendre et écrire une fonction Python renvoyant la moyenne d’un échantillon de taille n d’une variable aléatoire.\n",
    " \n",
    "Écrire une fonction qui renvoie la moyenne de l'échantillon.\n",
    "\n",
    "Aide : l'instruction sum(liste) renvoie la somme des valeurs d'une liste."
   ]
  },
  {
   "cell_type": "code",
   "execution_count": null,
   "metadata": {},
   "outputs": [],
   "source": [
    "def moyenne(liste):\n",
    "    return ..."
   ]
  },
  {
   "cell_type": "markdown",
   "metadata": {},
   "source": [
    "# 6. Proportion des écarts entre f et p\n",
    "Objectif :  Simuler, avec Python, N échantillons de taille n d’une variable aléatoire, d’espérance μ\n",
    "et d’écart type σ. Si m désigne la moyenne d’un échantillon, calculer la proportion des cas où l’écart entre m et μ est inférieur ou égal à 2σn‾√\n",
    "\"\n",
    "\n",
    "Écrire une fonction ecart de paramètres (valeurs , probabilites , n , N) qui va simuler N échantillons de taille n de la variable aléatoire X (d’espérance μ\n",
    "et d’écart type σ. )\n",
    "Si m désigne la moyenne de cet échantillon, la fonction devra renvoyer  la proportion des cas où l’écart entre m et μ est inférieur ou égal à 2σn‾√\n",
    "\"\n",
    "\n",
    "Aide : sous python, la fonction valeur absolue se nomme abs()"
   ]
  },
  {
   "cell_type": "code",
   "execution_count": 7,
   "metadata": {},
   "outputs": [],
   "source": [
    "def ecart(valeurs,probabilites,taille,nbechantillons):\n",
    "    ...\n",
    "    return ..."
   ]
  },
  {
   "cell_type": "code",
   "execution_count": null,
   "metadata": {},
   "outputs": [],
   "source": []
  }
 ],
 "metadata": {
  "kernelspec": {
   "display_name": "Python 3",
   "language": "python",
   "name": "python3"
  },
  "language_info": {
   "codemirror_mode": {
    "name": "ipython",
    "version": 3
   },
   "file_extension": ".py",
   "mimetype": "text/x-python",
   "name": "python",
   "nbconvert_exporter": "python",
   "pygments_lexer": "ipython3",
   "version": "3.6.8"
  }
 },
 "nbformat": 4,
 "nbformat_minor": 2
}
