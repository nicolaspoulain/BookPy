{
 "cells": [
  {
   "cell_type": "markdown",
   "metadata": {},
   "source": [
    "# Prérequis : Python et les listes\n",
    "\n",
    "En observant les instructions suivantes"
   ]
  },
  {
   "cell_type": "code",
   "execution_count": 2,
   "metadata": {},
   "outputs": [
    {
     "name": "stdout",
     "output_type": "stream",
     "text": [
      "17\n",
      "3\n",
      "89\n",
      "123\n"
     ]
    }
   ],
   "source": [
    "L = [17,3,89,123]\n",
    "for i in range(len(L)):\n",
    "    print(L[i])"
   ]
  },
  {
   "cell_type": "markdown",
   "metadata": {},
   "source": [
    "écrire une fonction `maximum` qui renvoie la valeur du plus grand élément d'une liste L."
   ]
  },
  {
   "cell_type": "code",
   "execution_count": 1,
   "metadata": {},
   "outputs": [],
   "source": [
    "def maximum(L):\n",
    "    return ..."
   ]
  },
  {
   "cell_type": "markdown",
   "metadata": {},
   "source": [
    "Remarque : Notez en particulier que le premier élément a pour rang 0 et que dans la boucle for i in range(n), le compteur i prend les valeurs de 0 à n-1.\n",
    "\n",
    "Écrire une fonction `rang_du_max` permettant de renvoyer le rang du maximum d'une liste lst (n'oubliez pas que le premier élément a pour rang 0)."
   ]
  },
  {
   "cell_type": "code",
   "execution_count": 3,
   "metadata": {},
   "outputs": [],
   "source": [
    "def rang_du_max(lst):\n",
    "    return ..."
   ]
  },
  {
   "cell_type": "markdown",
   "metadata": {},
   "source": [
    "# Moyenne\n",
    "\n",
    "Écrire une fonction capable de renvoyer la somme des valeurs d’une liste de nombres. Puis la modifier pour construire la fonction `moyenne` qui renvoie la moyenne des valeurs d'une liste lst."
   ]
  },
  {
   "cell_type": "code",
   "execution_count": 16,
   "metadata": {},
   "outputs": [],
   "source": [
    "def moyenne(lst):\n",
    "    return ..."
   ]
  },
  {
   "cell_type": "markdown",
   "metadata": {},
   "source": [
    "# Un algorithme de tri avant la médiane\n",
    "\n",
    "Observez les ligne suivantes, elles montrent l'action de `ajoute_retire(LA,LB,1)` qui transfère l'élément de rang 1 de la liste LA vers la liste LB."
   ]
  },
  {
   "cell_type": "code",
   "execution_count": 4,
   "metadata": {},
   "outputs": [
    {
     "name": "stdout",
     "output_type": "stream",
     "text": [
      "[100, 300, 400]\n",
      "[200]\n"
     ]
    }
   ],
   "source": [
    "def ajoute_retire(L1,L2,i):\n",
    "  L2.append(L1[i])\n",
    "  L1.pop(i) \n",
    "\n",
    "LA=[100,200,300,400]\n",
    "LB=[]\n",
    "ajoute_retire(LA,LB,1)\n",
    "print(LA)  # affiche [100, 300, 400]\n",
    "print(LB)  # affiche [200]"
   ]
  },
  {
   "cell_type": "markdown",
   "metadata": {},
   "source": [
    "En utilisant cette fonction, écrivez une fonction `tri` capable de renvoyer une version triée dans l'ordre décroissant d'une liste."
   ]
  },
  {
   "cell_type": "code",
   "execution_count": 14,
   "metadata": {},
   "outputs": [],
   "source": [
    "def tri(lst):\n",
    "    return ..."
   ]
  },
  {
   "cell_type": "markdown",
   "metadata": {},
   "source": [
    "Écrire une fonction `mediane` qui renvoie la médiane d'une liste lst non ordonnée."
   ]
  },
  {
   "cell_type": "code",
   "execution_count": 15,
   "metadata": {},
   "outputs": [],
   "source": [
    "def mediane(lst):\n",
    "    return ..."
   ]
  },
  {
   "cell_type": "markdown",
   "metadata": {},
   "source": [
    "# Activité 2 : Calcul d'une médiane et des quartiles : une autre version\n",
    "\n",
    "Pour déterminer la médiane, le plus simple est de commencer par trier les termes de la série en ordre croissant, grâce à l’instruction `L.sort()` qui modifie la liste série L en la triant, et de choisir ensuite le terme médian, selon la parité de l’effectif.\n",
    "\n",
    "## 1. Une médiane\n",
    "\n",
    "Écrire une fonction `mediane` qui va renvoyer la médiane d'une série donnée.\n",
    "\n",
    "Aide\n",
    "Quand on divise deux entiers n et i :\n",
    "\n",
    "- `n%i` renvoie le reste de la division euclidienne de n par i ;\n",
    "- `n//i` renvoient le quotient ;  alors que `n/i` renvoie le quotient décimal."
   ]
  },
  {
   "cell_type": "code",
   "execution_count": 13,
   "metadata": {},
   "outputs": [],
   "source": [
    "def mediane(serie):\n",
    "    return ..."
   ]
  },
  {
   "cell_type": "code",
   "execution_count": 11,
   "metadata": {},
   "outputs": [],
   "source": [
    "# Une autre fonction médiane\n",
    "# Quelques exemples à utiliser\n",
    "#\n",
    "L1 = [10, 50, 20, 30, 100, 80, 70]  # (7 valeurs)\n",
    "L2 = [100, 150, 135, 120, 110, 90]  # (6 valeurs)\n",
    "L3 = [49, 50.5, 51, 48.5, 52, 50, 49.5]  #\n",
    "L4 = [18, 11, 2, 3, 9, 21, 7, 13]  #:\n",
    "#\n",
    "def mediane(serie):\n",
    "  n =...\n",
    "  len(serie)\n",
    "  serie.sort()\n",
    "  if ... :\n",
    "    return ...\n",
    "  else:\n",
    "    return "
   ]
  },
  {
   "cell_type": "markdown",
   "metadata": {},
   "source": [
    "## 2. Quartile Q1\n",
    "\n",
    "En s’aidant du programme précédent, définir une fonction `q1`  qui renvoie le premier quartile de la série. Il faudra distinguer le cas où la longueur de la série est divisible par 4, ou pas."
   ]
  },
  {
   "cell_type": "code",
   "execution_count": 18,
   "metadata": {},
   "outputs": [],
   "source": [
    "def q1(serie):\n",
    "    return ..."
   ]
  },
  {
   "cell_type": "markdown",
   "metadata": {},
   "source": [
    "## 3. Quartile Q3\n",
    "\n",
    "Écrire ensuite une fonction `q3` qui renvoie le troisième quartile de la série."
   ]
  },
  {
   "cell_type": "code",
   "execution_count": 19,
   "metadata": {},
   "outputs": [],
   "source": [
    "def q3(serie):\n",
    "    return ..."
   ]
  },
  {
   "cell_type": "markdown",
   "metadata": {},
   "source": [
    "## 4. Écart interquartile\n",
    "\n",
    "Écrire une fonction `eiq` qui renvoie l’écart interquartile de la série."
   ]
  },
  {
   "cell_type": "code",
   "execution_count": 20,
   "metadata": {},
   "outputs": [],
   "source": [
    "def eiq(serie):\n",
    "    return..."
   ]
  },
  {
   "cell_type": "markdown",
   "metadata": {},
   "source": [
    "# Une moyenne pondérée\n",
    "\n",
    "On cherche à déterminer une fonction qui renvoie la moyenne d’une série qui sera composée de deux listes, l’une des valeurs, l’autre des effectifs. Commencer par définir les deux listes correspondantes à une série statistique, la première donnant les valeurs et la seconde les effectifs."
   ]
  },
  {
   "cell_type": "code",
   "execution_count": 21,
   "metadata": {},
   "outputs": [],
   "source": [
    "# TD de Statistiques : variance et écart-type\n",
    "# \n",
    "X1 = [1,2,4,5] #: ex. du cours p 168\n",
    "N1=[2,5,9,4] # les effectifs \n",
    "#  \n",
    "# Moyenne : moyenne(X1,N1) = 3,4 / moyenne([1,2,4,5],[2,5,9,4])\n",
    "# "
   ]
  },
  {
   "cell_type": "markdown",
   "metadata": {},
   "source": [
    "Compléter ensuite le programme suivant pour qu’il nous donne la moyenne de la série. Le premier paramètre sera la liste des valeurs, le second la liste des effectifs ."
   ]
  },
  {
   "cell_type": "code",
   "execution_count": 22,
   "metadata": {},
   "outputs": [
    {
     "ename": "SyntaxError",
     "evalue": "invalid syntax (<ipython-input-22-cdc18c26f3ca>, line 7)",
     "output_type": "error",
     "traceback": [
      "\u001b[0;36m  File \u001b[0;32m\"<ipython-input-22-cdc18c26f3ca>\"\u001b[0;36m, line \u001b[0;32m7\u001b[0m\n\u001b[0;31m    .... # somme des effectifs\u001b[0m\n\u001b[0m                               ^\u001b[0m\n\u001b[0;31mSyntaxError\u001b[0m\u001b[0;31m:\u001b[0m invalid syntax\n"
     ]
    }
   ],
   "source": [
    "# moyenne(X1,N1)\n",
    "#\n",
    "def moyenne(valeurs,effectifs):\n",
    "  s,n = 0,0\n",
    "  a= len(valeurs) # la longueur de la liste\n",
    "  for i in range(a):\n",
    "    .... # somme des effectifs \n",
    "    .... # somme des ni*xi\n",
    "  return ..."
   ]
  },
  {
   "cell_type": "markdown",
   "metadata": {},
   "source": [
    "## Variance 1\n",
    "Compléter ensuite le programme suivant pour qu’il nous donne la variance de la série. Le premier paramètre sera la liste des valeurs, le second la liste des effectifs. On utilisera une des définitions possibles de la variance suivante :\n",
    "\n",
    "On considère une série statistique $\\left(x_i~;~n_i \\right)$ de moyenne $\\overline{m}$ . La variance est le réel V tel que :\n",
    "\n",
    "$$V=\\dfrac{n_1\\left( x_1-\\overline{m}\\right)^2+n_2\\left( x_2-\\overline{m}\\right)^2+\\cdots+n_p\\left( x_p-\\overline{m}\\right)^2 }{N}$$"
   ]
  },
  {
   "cell_type": "code",
   "execution_count": 23,
   "metadata": {},
   "outputs": [],
   "source": [
    "# variance(X1,N1)\n",
    "#\n",
    "def variance(valeurs,effectifs):\n",
    "  somme,N = 0,0\n",
    "  ...\n",
    "  return ..."
   ]
  },
  {
   "cell_type": "markdown",
   "metadata": {},
   "source": [
    "## Variance 2 : De même avec une autre définition de la variance.\n",
    "\n",
    "On considère une série statistique $\\left(x_i~;~n_i \\right)$ de moyenne $\\overline{m}$ . La variance est le réel V tel que :\n",
    "\n",
    "$$V=\\dfrac{n_1 \\times x_1 ^2+n_2\\times x_2 ^2+\\cdots+n_p\\times x_p ^2 }{N}- \\left(\\overline{m} \\right)^2$$"
   ]
  },
  {
   "cell_type": "code",
   "execution_count": 24,
   "metadata": {},
   "outputs": [
    {
     "ename": "SyntaxError",
     "evalue": "invalid syntax (<ipython-input-24-ba35d467e3f4>, line 5)",
     "output_type": "error",
     "traceback": [
      "\u001b[0;36m  File \u001b[0;32m\"<ipython-input-24-ba35d467e3f4>\"\u001b[0;36m, line \u001b[0;32m5\u001b[0m\n\u001b[0;31m    for ...\u001b[0m\n\u001b[0m           ^\u001b[0m\n\u001b[0;31mSyntaxError\u001b[0m\u001b[0;31m:\u001b[0m invalid syntax\n"
     ]
    }
   ],
   "source": [
    "def variance2(valeurs,effectifs):\n",
    "  s2 = 0\n",
    "  n = len(valeurs) # la longueur de la liste\n",
    "  m=moyenne(valeurs,effectifs)\n",
    "  for ...\n",
    "       ...\n",
    "  return ..."
   ]
  },
  {
   "cell_type": "markdown",
   "metadata": {},
   "source": [
    "## Écart-type\n",
    "Pour finir on peut alors facilement écrire une fonction qui donne l’écart-type qui est la racine carrée de la variance.\n",
    "\n",
    "Pour cela nous avons besoin de la fonction racine carrée qui doit être importée via le module math et qui se nomme `math.sqrt()`."
   ]
  },
  {
   "cell_type": "code",
   "execution_count": 25,
   "metadata": {},
   "outputs": [],
   "source": [
    "import math\n",
    "# \n",
    "def ecarttype(valeurs,effectifs):\n",
    "  return math.sqrt(variance(valeurs,effectifs))"
   ]
  }
 ],
 "metadata": {
  "kernelspec": {
   "display_name": "Python 3",
   "language": "python",
   "name": "python3"
  },
  "language_info": {
   "codemirror_mode": {
    "name": "ipython",
    "version": 3
   },
   "file_extension": ".py",
   "mimetype": "text/x-python",
   "name": "python",
   "nbconvert_exporter": "python",
   "pygments_lexer": "ipython3",
   "version": "3.6.8"
  }
 },
 "nbformat": 4,
 "nbformat_minor": 2
}
