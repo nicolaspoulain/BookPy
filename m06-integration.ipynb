{
 "cells": [
  {
   "cell_type": "markdown",
   "metadata": {},
   "source": [
    "# Formules de quadrature : méthodes des rectangles et trapèzes\n",
    "\n",
    "Ces méthodes sont très naturelles puisqu'elles sont basées sur les formules qui permettent de construire l'intégrale (de Riemann) : les sommes de Darboux ou de Riemann.\n",
    "\n",
    "On cherche ici à calculer l'aire sous la courbe de la fonction positive et continue f\n",
    "définie sur un intervalle [a,b]\n",
    "\n",
    "par :\n",
    "\n",
    "$$ f(x)=exp(x^2) $$\n",
    "\n",
    "On commence par définir cette fonction en important le module math au début."
   ]
  },
  {
   "cell_type": "code",
   "execution_count": 2,
   "metadata": {},
   "outputs": [],
   "source": [
    "import math\n",
    "\n",
    "def f(x):\n",
    "  return math.exp(x**2)"
   ]
  },
  {
   "cell_type": "markdown",
   "metadata": {},
   "source": [
    "## Méthode des rectangles\n",
    "\n",
    "Cette méthode, très élémentaire, basée sur les sommes de Cauchy-Riemann (approchant l'aire sous une courbe) et appliquée à une fonction f continue, permet le calcul approché d'intégrales en choisissant une subdivision régulière de pas h\n",
    "\n",
    "$$ h=\\frac{b−a}n  ;  xi=a+i\\times h$$\n",
    "\n",
    "\n",
    "\n",
    "Compléter les fonctions proposées. On notera a\n",
    "et b les bornes du segment [a,b] d'intégration et n\n",
    "le nombre de rectangles."
   ]
  },
  {
   "cell_type": "code",
   "execution_count": 3,
   "metadata": {},
   "outputs": [
    {
     "ename": "SyntaxError",
     "evalue": "invalid syntax (<ipython-input-3-db7391b31ee0>, line 9)",
     "output_type": "error",
     "traceback": [
      "\u001b[0;36m  File \u001b[0;32m\"<ipython-input-3-db7391b31ee0>\"\u001b[0;36m, line \u001b[0;32m9\u001b[0m\n\u001b[0;31m    somme=somme+rectangle(.......)\u001b[0m\n\u001b[0m                               ^\u001b[0m\n\u001b[0;31mSyntaxError\u001b[0m\u001b[0;31m:\u001b[0m invalid syntax\n"
     ]
    }
   ],
   "source": [
    "#Aire du rectangle de côtés f(a) et L\n",
    "def rectangle(a,L):\n",
    "  return f(a)*L\n",
    "\n",
    "def integ1(f,a,b,n):\n",
    "  somme=0\n",
    "  pas=(b-a)/n\n",
    "  for i in range(n):\n",
    "    somme=somme+rectangle(.......)\n",
    "  return somme"
   ]
  },
  {
   "cell_type": "markdown",
   "metadata": {},
   "source": [
    "## Méthode des trapèzes\n",
    "\n",
    "Soit f une fonction continue et positive sur un intervalle [a,b]. On veut calculer l'intégrale de f sur le segment [a,b]\n",
    "\n",
    "Si nous choisissons une subdivision régulière de l'intervalle [a,b]\n",
    "en n sous-intervalles $[x_i , x_{i+1}]$ avec i variant de 0 à n :\n",
    "\n",
    "$$x_0=a<x_1<x_2<...<x_n=b$$\n",
    "\n",
    "On a $x_{i+1}−x_i=\\frac{b−a}n$\n",
    "\n",
    "La somme des aires colorées représente une approximation J de l'intégrale I. Chaque aire est celle d'un trapèze de hauteur $(x_{i+1}−x_i)$, de bases respectives $f(x_i)$ et $f(x_{i+1})$\n",
    ".\n",
    "\n",
    "source : https://blogdemaths.wordpress.com/2015/07/26/ce-chercheur-qui-reinventa-la-roue-sans-le-savoir/"
   ]
  },
  {
   "cell_type": "code",
   "execution_count": 4,
   "metadata": {},
   "outputs": [],
   "source": [
    "#Aire du trapèze de bases f(a) et f(b) et de hauteur (b-a)\n",
    "def trapeze(a,b):\n",
    "  return (f(a)+f(b))*(b-a)/2\n",
    "\n",
    "def integ2(f,a,b,n):\n",
    "  somme=0\n",
    "  pas=(b-a)/n\n",
    "  for i in range(n):\n",
    "    somme=somme+trapeze(...)\n",
    "  return somme"
   ]
  },
  {
   "cell_type": "markdown",
   "metadata": {},
   "source": [
    "# Calcul direct avec le module scipy.integrate\n",
    "\n",
    "Le module scipy.integrate permet d'obtenir un valeur approchée de l'intégrale ainsi qu'une estimation de l'erreur."
   ]
  },
  {
   "cell_type": "code",
   "execution_count": 5,
   "metadata": {},
   "outputs": [
    {
     "name": "stdout",
     "output_type": "stream",
     "text": [
      "(14.98997601960005, 1.664221651553893e-13)\n"
     ]
    },
    {
     "ename": "TypeError",
     "evalue": "trapeze() missing 1 required positional argument: 'b'",
     "output_type": "error",
     "traceback": [
      "\u001b[0;31m---------------------------------------------------------------------------\u001b[0m",
      "\u001b[0;31mTypeError\u001b[0m                                 Traceback (most recent call last)",
      "\u001b[0;32m<ipython-input-5-16fcbb334115>\u001b[0m in \u001b[0;36m<module>\u001b[0;34m\u001b[0m\n\u001b[1;32m      2\u001b[0m \u001b[0;32mimport\u001b[0m \u001b[0mscipy\u001b[0m\u001b[0;34m.\u001b[0m\u001b[0mintegrate\u001b[0m\u001b[0;34m\u001b[0m\u001b[0;34m\u001b[0m\u001b[0m\n\u001b[1;32m      3\u001b[0m \u001b[0mprint\u001b[0m\u001b[0;34m(\u001b[0m\u001b[0mscipy\u001b[0m\u001b[0;34m.\u001b[0m\u001b[0mintegrate\u001b[0m\u001b[0;34m.\u001b[0m\u001b[0mquad\u001b[0m\u001b[0;34m(\u001b[0m\u001b[0mf\u001b[0m\u001b[0;34m,\u001b[0m\u001b[0;36m1\u001b[0m\u001b[0;34m,\u001b[0m\u001b[0;36m2\u001b[0m\u001b[0;34m)\u001b[0m\u001b[0;34m)\u001b[0m\u001b[0;34m\u001b[0m\u001b[0;34m\u001b[0m\u001b[0m\n\u001b[0;32m----> 4\u001b[0;31m \u001b[0mprint\u001b[0m\u001b[0;34m(\u001b[0m\u001b[0minteg2\u001b[0m\u001b[0;34m(\u001b[0m\u001b[0mf\u001b[0m\u001b[0;34m,\u001b[0m\u001b[0;36m1\u001b[0m\u001b[0;34m,\u001b[0m\u001b[0;36m2\u001b[0m\u001b[0;34m,\u001b[0m\u001b[0;36m1000\u001b[0m\u001b[0;34m)\u001b[0m\u001b[0;34m)\u001b[0m\u001b[0;34m\u001b[0m\u001b[0;34m\u001b[0m\u001b[0m\n\u001b[0m\u001b[1;32m      5\u001b[0m \u001b[0;31m# la deuxième donnée renvoyée : float     An estimate of the absolute error in the result.\u001b[0m\u001b[0;34m\u001b[0m\u001b[0;34m\u001b[0m\u001b[0;34m\u001b[0m\u001b[0m\n",
      "\u001b[0;32m<ipython-input-4-0416ebbe338b>\u001b[0m in \u001b[0;36minteg2\u001b[0;34m(f, a, b, n)\u001b[0m\n\u001b[1;32m      7\u001b[0m   \u001b[0mpas\u001b[0m\u001b[0;34m=\u001b[0m\u001b[0;34m(\u001b[0m\u001b[0mb\u001b[0m\u001b[0;34m-\u001b[0m\u001b[0ma\u001b[0m\u001b[0;34m)\u001b[0m\u001b[0;34m/\u001b[0m\u001b[0mn\u001b[0m\u001b[0;34m\u001b[0m\u001b[0;34m\u001b[0m\u001b[0m\n\u001b[1;32m      8\u001b[0m   \u001b[0;32mfor\u001b[0m \u001b[0mi\u001b[0m \u001b[0;32min\u001b[0m \u001b[0mrange\u001b[0m\u001b[0;34m(\u001b[0m\u001b[0mn\u001b[0m\u001b[0;34m)\u001b[0m\u001b[0;34m:\u001b[0m\u001b[0;34m\u001b[0m\u001b[0;34m\u001b[0m\u001b[0m\n\u001b[0;32m----> 9\u001b[0;31m     \u001b[0msomme\u001b[0m\u001b[0;34m=\u001b[0m\u001b[0msomme\u001b[0m\u001b[0;34m+\u001b[0m\u001b[0mtrapeze\u001b[0m\u001b[0;34m(\u001b[0m\u001b[0;34m...\u001b[0m\u001b[0;34m)\u001b[0m\u001b[0;34m\u001b[0m\u001b[0;34m\u001b[0m\u001b[0m\n\u001b[0m\u001b[1;32m     10\u001b[0m   \u001b[0;32mreturn\u001b[0m \u001b[0msomme\u001b[0m\u001b[0;34m\u001b[0m\u001b[0;34m\u001b[0m\u001b[0m\n",
      "\u001b[0;31mTypeError\u001b[0m: trapeze() missing 1 required positional argument: 'b'"
     ]
    }
   ],
   "source": [
    "# Calcul direct avec le module scipy.integrate\n",
    "import scipy.integrate\n",
    "print(scipy.integrate.quad(f,1,2))\n",
    "print(integ2(f,1,2,1000))\n",
    "# la deuxième donnée renvoyée : float     An estimate of the absolute error in the result."
   ]
  },
  {
   "cell_type": "markdown",
   "metadata": {},
   "source": [
    "# Améliorations : le méthode du point milieu\n",
    "\n",
    "Dans la méthode des rectangles le choix du point milieu améliore l’ordre de la méthode : celle du rectangle est exacte  pour les fonctions constantes alors que celle du point milieu est exacte pour les polynômes de degré 1.  La méthode des trapèzes est souvent moins performante que celle du point milieu.\n",
    "\n",
    "Proposer donc une mise en place de cette méthode."
   ]
  },
  {
   "cell_type": "code",
   "execution_count": null,
   "metadata": {},
   "outputs": [],
   "source": []
  }
 ],
 "metadata": {
  "kernelspec": {
   "display_name": "Python 3",
   "language": "python",
   "name": "python3"
  },
  "language_info": {
   "codemirror_mode": {
    "name": "ipython",
    "version": 3
   },
   "file_extension": ".py",
   "mimetype": "text/x-python",
   "name": "python",
   "nbconvert_exporter": "python",
   "pygments_lexer": "ipython3",
   "version": "3.6.8"
  }
 },
 "nbformat": 4,
 "nbformat_minor": 2
}
