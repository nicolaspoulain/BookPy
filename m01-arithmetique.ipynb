{
 "cells": [
  {
   "cell_type": "markdown",
   "metadata": {},
   "source": [
    "# Modulo\n",
    "\n",
    "Le « modulo » est une opération arithmétique très utile, intégrée dans la quasi-totalité des langages informatiques.\n",
    "Étant donnés deux nombres entiers a et b strictement positifs, le résultat de la commande `a % b` (lire « a modulo b ») est le reste de la division euclidienne de $a$ par $b$."
   ]
  },
  {
   "cell_type": "code",
   "execution_count": 1,
   "metadata": {},
   "outputs": [
    {
     "data": {
      "text/plain": [
       "7"
      ]
     },
     "execution_count": 1,
     "metadata": {},
     "output_type": "execute_result"
    }
   ],
   "source": [
    "537%10"
   ]
  },
  {
   "cell_type": "code",
   "execution_count": 2,
   "metadata": {},
   "outputs": [
    {
     "data": {
      "text/plain": [
       "2"
      ]
     },
     "execution_count": 2,
     "metadata": {},
     "output_type": "execute_result"
    }
   ],
   "source": [
    "20%3"
   ]
  },
  {
   "cell_type": "code",
   "execution_count": 3,
   "metadata": {},
   "outputs": [
    {
     "data": {
      "text/plain": [
       "0"
      ]
     },
     "execution_count": 3,
     "metadata": {},
     "output_type": "execute_result"
    }
   ],
   "source": [
    "2020%4"
   ]
  },
  {
   "cell_type": "markdown",
   "metadata": {},
   "source": [
    "# Activité 1. Liste de diviseurs\n",
    "\n",
    "Écrire une fonction `liste_diviseurs` capable de renvoyer la liste de tous les diviseurs non triviaux (càd différents de 1 et de $n$) d'un nombre entier $n$."
   ]
  },
  {
   "cell_type": "code",
   "execution_count": 7,
   "metadata": {},
   "outputs": [],
   "source": [
    "def liste_diviseurs(n):\n",
    "    L=[]\n",
    "    #######**** À RÉDIGER ****#######\n",
    "    return L"
   ]
  },
  {
   "cell_type": "markdown",
   "metadata": {},
   "source": [
    "Écrire une fonction nombre_diviseurs capable de renvoyer le nombre de diviseurs non triviaux d'un nombre entier $n$."
   ]
  },
  {
   "cell_type": "code",
   "execution_count": 9,
   "metadata": {},
   "outputs": [],
   "source": [
    "def nombre_diviseurs(n):\n",
    "    Nbdiv = 0\n",
    "    #######**** À RÉDIGER ****#######\n",
    "    return Nbdiv"
   ]
  },
  {
   "cell_type": "markdown",
   "metadata": {},
   "source": [
    "Écrire une fonction max_nb_diviseurs capable de renvoyer le nombre inférieur à $n$ qui compte le plus de diviseurs non triviaux ?\n",
    "\n",
    "Indication : le nombre 840, avec 30 diviseurs non triviaux est le nombre inférieur à 1000 ayant le plus de diviseurs. Liste des diviseurs de 840 : `[2, 3, 4, 5, 6, 7, 8, 10, 12, 14, 15, 20, 21, 24, 28, 30, 35, 40, 42, 56, 60, 70, 84, 105,120, 140, 168, 210, 280, 420]`\n"
   ]
  },
  {
   "cell_type": "code",
   "execution_count": null,
   "metadata": {},
   "outputs": [],
   "source": [
    "def max_nb_diviseurs(n):\n",
    "    maxNbdiv = 1\n",
    "    #######**** À RÉDIGER ****#######\n",
    "    return maxNbdiv"
   ]
  },
  {
   "cell_type": "markdown",
   "metadata": {},
   "source": [
    "# Activité 2. Nombres premiers\n",
    "\n",
    "Écrire une fonction liste_premiers capable de renvoyer la liste de tous les nombres premiers inférieurs à $n$.\n",
    "\n",
    "*Le module «Nombres premiers» vous permettra d'aller plus loin sur les questions autour des nombres premiers.*"
   ]
  },
  {
   "cell_type": "code",
   "execution_count": 11,
   "metadata": {},
   "outputs": [],
   "source": [
    "def liste_premiers(n):\n",
    "    L=[]\n",
    "    #######**** À RÉDIGER ****#######\n",
    "    return L"
   ]
  },
  {
   "cell_type": "markdown",
   "metadata": {},
   "source": [
    "# Activité 3. Nombres parfaits\n",
    "\n",
    "Un nombre est dit parfait lorsqu'il est égal à la somme de ses diviseurs excepté lui-même.\n",
    "Par exemple, 6 admet pour diviseurs 1, 2, 3 et 6, et on a 1+2+3=6, donc 6 est un nombre parfait.\n",
    "Écrire un fonction liste_parfaits capable de renvoyer la liste de tous les nombres parfaits inférieurs à $n$.\n",
    "\n",
    "Indication : les quatre premiers nombres parfaits sont connus depuis l'antiquité : 6, 28, 496 et 8128.\n",
    "Les suivants sont bien plus gros et les déterminer, même avec un ordinateur puissant prend du temps. Voici les cinq suivants\n",
    "\n",
    "    33 550 336\n",
    "    8 589 869 056\n",
    "    137 438 691 328\n",
    "    2 305 843 008 139 952 128\n",
    "    2 658 455 991 569 831 744 654 692 615 953 842 176\n",
    "\n",
    "Actuellement, on connaît 50 nombres parfaits mais le sujet reste largement ouvert.\n"
   ]
  },
  {
   "cell_type": "code",
   "execution_count": 12,
   "metadata": {},
   "outputs": [],
   "source": [
    "def liste_parfaits(n):\n",
    "    L=[]\n",
    "    #######**** À RÉDIGER ****#######\n",
    "    return L"
   ]
  }
 ],
 "metadata": {
  "kernelspec": {
   "display_name": "Python 3",
   "language": "python",
   "name": "python3"
  },
  "language_info": {
   "codemirror_mode": {
    "name": "ipython",
    "version": 3
   },
   "file_extension": ".py",
   "mimetype": "text/x-python",
   "name": "python",
   "nbconvert_exporter": "python",
   "pygments_lexer": "ipython3",
   "version": "3.6.8"
  }
 },
 "nbformat": 4,
 "nbformat_minor": 2
}
